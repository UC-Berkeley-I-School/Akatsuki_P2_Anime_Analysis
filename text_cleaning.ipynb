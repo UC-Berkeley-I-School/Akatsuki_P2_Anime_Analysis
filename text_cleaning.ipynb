{
 "cells": [
  {
   "cell_type": "markdown",
   "id": "d5fdf24b-db06-4f69-8093-a2639942e203",
   "metadata": {},
   "source": [
    "### Import the merged data"
   ]
  },
  {
   "cell_type": "code",
   "execution_count": 1,
   "id": "6ac1d9e1-2049-4c99-a65c-c832038dfb11",
   "metadata": {},
   "outputs": [],
   "source": [
    "import pandas as pd"
   ]
  },
  {
   "cell_type": "code",
   "execution_count": 2,
   "id": "a8135fb8-a83a-45b4-a555-a55e66bb14b0",
   "metadata": {},
   "outputs": [
    {
     "data": {
      "text/plain": [
       "(20876, 46)"
      ]
     },
     "execution_count": 2,
     "metadata": {},
     "output_type": "execute_result"
    }
   ],
   "source": [
    "df = pd.read_csv('anime_master_data.csv')\n",
    "df.shape"
   ]
  },
  {
   "cell_type": "code",
   "execution_count": 3,
   "id": "c2a1bc08-af2e-4119-8146-d81de54a4094",
   "metadata": {},
   "outputs": [
    {
     "data": {
      "text/plain": [
       "(20876, 46)"
      ]
     },
     "execution_count": 3,
     "metadata": {},
     "output_type": "execute_result"
    }
   ],
   "source": [
    "#drop any Na values \n",
    "df.dropna()\n",
    "df.shape"
   ]
  },
  {
   "cell_type": "markdown",
   "id": "0d838546-cfde-469c-a9b7-eb32cdbefd45",
   "metadata": {},
   "source": [
    "### Identify text columns for cleaning"
   ]
  },
  {
   "cell_type": "code",
   "execution_count": 4,
   "id": "2c94440b-f6f4-4045-9a66-2e99a8ef3d7a",
   "metadata": {},
   "outputs": [
    {
     "data": {
      "text/html": [
       "<div>\n",
       "<style scoped>\n",
       "    .dataframe tbody tr th:only-of-type {\n",
       "        vertical-align: middle;\n",
       "    }\n",
       "\n",
       "    .dataframe tbody tr th {\n",
       "        vertical-align: top;\n",
       "    }\n",
       "\n",
       "    .dataframe thead th {\n",
       "        text-align: right;\n",
       "    }\n",
       "</style>\n",
       "<table border=\"1\" class=\"dataframe\">\n",
       "  <thead>\n",
       "    <tr style=\"text-align: right;\">\n",
       "      <th></th>\n",
       "      <th>title</th>\n",
       "      <th>status</th>\n",
       "      <th>source</th>\n",
       "      <th>genres</th>\n",
       "      <th>themes</th>\n",
       "      <th>synopsis_2022</th>\n",
       "      <th>background</th>\n",
       "      <th>synopsis_2020</th>\n",
       "      <th>genre</th>\n",
       "      <th>title_synonyms</th>\n",
       "      <th>demographics</th>\n",
       "      <th>background</th>\n",
       "    </tr>\n",
       "  </thead>\n",
       "  <tbody>\n",
       "    <tr>\n",
       "      <th>0</th>\n",
       "      <td>Fullmetal Alchemist: Brotherhood</td>\n",
       "      <td>Finished Airing</td>\n",
       "      <td>Manga</td>\n",
       "      <td>['Action', 'Adventure', 'Drama', 'Fantasy']</td>\n",
       "      <td>['Military']</td>\n",
       "      <td>After a horrific alchemy experiment goes wrong...</td>\n",
       "      <td>NaN</td>\n",
       "      <td>\"In order for something to be obtained, someth...</td>\n",
       "      <td>['Action', 'Military', 'Adventure', 'Comedy', ...</td>\n",
       "      <td>['Hagane no Renkinjutsushi: Fullmetal Alchemis...</td>\n",
       "      <td>['Shounen']</td>\n",
       "      <td>NaN</td>\n",
       "    </tr>\n",
       "    <tr>\n",
       "      <th>1</th>\n",
       "      <td>Hunter x Hunter (2011)</td>\n",
       "      <td>Finished Airing</td>\n",
       "      <td>Manga</td>\n",
       "      <td>['Action', 'Adventure', 'Fantasy']</td>\n",
       "      <td>[]</td>\n",
       "      <td>Hunters devote themselves to accomplishing haz...</td>\n",
       "      <td>NaN</td>\n",
       "      <td>Hunter x Hunter  is set in a world where Hunte...</td>\n",
       "      <td>['Action', 'Adventure', 'Fantasy', 'Shounen', ...</td>\n",
       "      <td>['HxH (2011)']</td>\n",
       "      <td>['Shounen']</td>\n",
       "      <td>NaN</td>\n",
       "    </tr>\n",
       "    <tr>\n",
       "      <th>2</th>\n",
       "      <td>Shingeki no Kyojin Season 3 Part 2</td>\n",
       "      <td>Finished Airing</td>\n",
       "      <td>Manga</td>\n",
       "      <td>['Action', 'Drama']</td>\n",
       "      <td>['Gore', 'Military', 'Survival']</td>\n",
       "      <td>Seeking to restore humanity's diminishing hope...</td>\n",
       "      <td>Shingeki no Kyojin adapts content from volumes...</td>\n",
       "      <td>Seeking to restore humanity’s diminishing hope...</td>\n",
       "      <td>['Action', 'Drama', 'Fantasy', 'Military', 'My...</td>\n",
       "      <td>[]</td>\n",
       "      <td>['Shounen']</td>\n",
       "      <td>Shingeki no Kyojin adapts content from volumes...</td>\n",
       "    </tr>\n",
       "    <tr>\n",
       "      <th>3</th>\n",
       "      <td>Steins;Gate</td>\n",
       "      <td>Finished Airing</td>\n",
       "      <td>Visual novel</td>\n",
       "      <td>['Drama', 'Sci-Fi', 'Suspense']</td>\n",
       "      <td>['Psychological', 'Time Travel']</td>\n",
       "      <td>Eccentric scientist Rintarou Okabe has a never...</td>\n",
       "      <td>Steins;Gate is based on 5pb. and Nitroplus' re...</td>\n",
       "      <td>The self-proclaimed mad scientist Rintarou Oka...</td>\n",
       "      <td>['Thriller', 'Sci-Fi']</td>\n",
       "      <td>[]</td>\n",
       "      <td>[]</td>\n",
       "      <td>Steins;Gate is based on 5pb. and Nitroplus' re...</td>\n",
       "    </tr>\n",
       "    <tr>\n",
       "      <th>4</th>\n",
       "      <td>Koe no Katachi</td>\n",
       "      <td>Finished Airing</td>\n",
       "      <td>Manga</td>\n",
       "      <td>['Drama']</td>\n",
       "      <td>['Romantic Subtext']</td>\n",
       "      <td>As a wild youth, elementary school student Sho...</td>\n",
       "      <td>Winner of the Excellence Award on the 20th Jap...</td>\n",
       "      <td>As a wild youth, elementary school student Sho...</td>\n",
       "      <td>['Drama', 'School', 'Shounen']</td>\n",
       "      <td>['The Shape of Voice']</td>\n",
       "      <td>['Shounen']</td>\n",
       "      <td>Winner of the Excellence Award on the 20th Jap...</td>\n",
       "    </tr>\n",
       "    <tr>\n",
       "      <th>...</th>\n",
       "      <td>...</td>\n",
       "      <td>...</td>\n",
       "      <td>...</td>\n",
       "      <td>...</td>\n",
       "      <td>...</td>\n",
       "      <td>...</td>\n",
       "      <td>...</td>\n",
       "      <td>...</td>\n",
       "      <td>...</td>\n",
       "      <td>...</td>\n",
       "      <td>...</td>\n",
       "      <td>...</td>\n",
       "    </tr>\n",
       "    <tr>\n",
       "      <th>20871</th>\n",
       "      <td>Rocket Boy &amp; Toro</td>\n",
       "      <td>Finished Airing</td>\n",
       "      <td>Original</td>\n",
       "      <td>['Fantasy']</td>\n",
       "      <td>[]</td>\n",
       "      <td>NaN</td>\n",
       "      <td>NaN</td>\n",
       "      <td>NaN</td>\n",
       "      <td>NaN</td>\n",
       "      <td>['Lokesboiwa Tolo']</td>\n",
       "      <td>['Kids']</td>\n",
       "      <td>NaN</td>\n",
       "    </tr>\n",
       "    <tr>\n",
       "      <th>20872</th>\n",
       "      <td>Longlong Juggessji?</td>\n",
       "      <td>Finished Airing</td>\n",
       "      <td>Original</td>\n",
       "      <td>['Comedy', 'Fantasy']</td>\n",
       "      <td>[]</td>\n",
       "      <td>NaN</td>\n",
       "      <td>NaN</td>\n",
       "      <td>NaN</td>\n",
       "      <td>NaN</td>\n",
       "      <td>[\"Wouldn't it be Long?\"]</td>\n",
       "      <td>['Kids']</td>\n",
       "      <td>NaN</td>\n",
       "    </tr>\n",
       "    <tr>\n",
       "      <th>20873</th>\n",
       "      <td>Mask Man</td>\n",
       "      <td>Finished Airing</td>\n",
       "      <td>Original</td>\n",
       "      <td>['Action', 'Adventure', 'Comedy', 'Sci-Fi']</td>\n",
       "      <td>[]</td>\n",
       "      <td>NaN</td>\n",
       "      <td>NaN</td>\n",
       "      <td>NaN</td>\n",
       "      <td>NaN</td>\n",
       "      <td>['Maseukeumaen']</td>\n",
       "      <td>['Kids']</td>\n",
       "      <td>NaN</td>\n",
       "    </tr>\n",
       "    <tr>\n",
       "      <th>20874</th>\n",
       "      <td>Mailloui Daemoheom</td>\n",
       "      <td>Finished Airing</td>\n",
       "      <td>Original</td>\n",
       "      <td>['Adventure', 'Fantasy']</td>\n",
       "      <td>[]</td>\n",
       "      <td>NaN</td>\n",
       "      <td>NaN</td>\n",
       "      <td>NaN</td>\n",
       "      <td>NaN</td>\n",
       "      <td>[]</td>\n",
       "      <td>['Kids']</td>\n",
       "      <td>NaN</td>\n",
       "    </tr>\n",
       "    <tr>\n",
       "      <th>20875</th>\n",
       "      <td>Isekai Shikkaku</td>\n",
       "      <td>Not yet aired</td>\n",
       "      <td>Manga</td>\n",
       "      <td>['Adventure', 'Comedy', 'Fantasy']</td>\n",
       "      <td>['Isekai']</td>\n",
       "      <td>An adventure in another world with cute girls ...</td>\n",
       "      <td>NaN</td>\n",
       "      <td>NaN</td>\n",
       "      <td>NaN</td>\n",
       "      <td>['No Longer Human...In Another World']</td>\n",
       "      <td>[]</td>\n",
       "      <td>NaN</td>\n",
       "    </tr>\n",
       "  </tbody>\n",
       "</table>\n",
       "<p>20876 rows × 12 columns</p>\n",
       "</div>"
      ],
      "text/plain": [
       "                                    title           status        source  \\\n",
       "0        Fullmetal Alchemist: Brotherhood  Finished Airing         Manga   \n",
       "1                  Hunter x Hunter (2011)  Finished Airing         Manga   \n",
       "2      Shingeki no Kyojin Season 3 Part 2  Finished Airing         Manga   \n",
       "3                             Steins;Gate  Finished Airing  Visual novel   \n",
       "4                          Koe no Katachi  Finished Airing         Manga   \n",
       "...                                   ...              ...           ...   \n",
       "20871                   Rocket Boy & Toro  Finished Airing      Original   \n",
       "20872                 Longlong Juggessji?  Finished Airing      Original   \n",
       "20873                            Mask Man  Finished Airing      Original   \n",
       "20874                  Mailloui Daemoheom  Finished Airing      Original   \n",
       "20875                     Isekai Shikkaku    Not yet aired         Manga   \n",
       "\n",
       "                                            genres  \\\n",
       "0      ['Action', 'Adventure', 'Drama', 'Fantasy']   \n",
       "1               ['Action', 'Adventure', 'Fantasy']   \n",
       "2                              ['Action', 'Drama']   \n",
       "3                  ['Drama', 'Sci-Fi', 'Suspense']   \n",
       "4                                        ['Drama']   \n",
       "...                                            ...   \n",
       "20871                                  ['Fantasy']   \n",
       "20872                        ['Comedy', 'Fantasy']   \n",
       "20873  ['Action', 'Adventure', 'Comedy', 'Sci-Fi']   \n",
       "20874                     ['Adventure', 'Fantasy']   \n",
       "20875           ['Adventure', 'Comedy', 'Fantasy']   \n",
       "\n",
       "                                 themes  \\\n",
       "0                          ['Military']   \n",
       "1                                    []   \n",
       "2      ['Gore', 'Military', 'Survival']   \n",
       "3      ['Psychological', 'Time Travel']   \n",
       "4                  ['Romantic Subtext']   \n",
       "...                                 ...   \n",
       "20871                                []   \n",
       "20872                                []   \n",
       "20873                                []   \n",
       "20874                                []   \n",
       "20875                        ['Isekai']   \n",
       "\n",
       "                                           synopsis_2022  \\\n",
       "0      After a horrific alchemy experiment goes wrong...   \n",
       "1      Hunters devote themselves to accomplishing haz...   \n",
       "2      Seeking to restore humanity's diminishing hope...   \n",
       "3      Eccentric scientist Rintarou Okabe has a never...   \n",
       "4      As a wild youth, elementary school student Sho...   \n",
       "...                                                  ...   \n",
       "20871                                                NaN   \n",
       "20872                                                NaN   \n",
       "20873                                                NaN   \n",
       "20874                                                NaN   \n",
       "20875  An adventure in another world with cute girls ...   \n",
       "\n",
       "                                              background  \\\n",
       "0                                                    NaN   \n",
       "1                                                    NaN   \n",
       "2      Shingeki no Kyojin adapts content from volumes...   \n",
       "3      Steins;Gate is based on 5pb. and Nitroplus' re...   \n",
       "4      Winner of the Excellence Award on the 20th Jap...   \n",
       "...                                                  ...   \n",
       "20871                                                NaN   \n",
       "20872                                                NaN   \n",
       "20873                                                NaN   \n",
       "20874                                                NaN   \n",
       "20875                                                NaN   \n",
       "\n",
       "                                           synopsis_2020  \\\n",
       "0      \"In order for something to be obtained, someth...   \n",
       "1      Hunter x Hunter  is set in a world where Hunte...   \n",
       "2      Seeking to restore humanity’s diminishing hope...   \n",
       "3      The self-proclaimed mad scientist Rintarou Oka...   \n",
       "4      As a wild youth, elementary school student Sho...   \n",
       "...                                                  ...   \n",
       "20871                                                NaN   \n",
       "20872                                                NaN   \n",
       "20873                                                NaN   \n",
       "20874                                                NaN   \n",
       "20875                                                NaN   \n",
       "\n",
       "                                                   genre  \\\n",
       "0      ['Action', 'Military', 'Adventure', 'Comedy', ...   \n",
       "1      ['Action', 'Adventure', 'Fantasy', 'Shounen', ...   \n",
       "2      ['Action', 'Drama', 'Fantasy', 'Military', 'My...   \n",
       "3                                 ['Thriller', 'Sci-Fi']   \n",
       "4                         ['Drama', 'School', 'Shounen']   \n",
       "...                                                  ...   \n",
       "20871                                                NaN   \n",
       "20872                                                NaN   \n",
       "20873                                                NaN   \n",
       "20874                                                NaN   \n",
       "20875                                                NaN   \n",
       "\n",
       "                                          title_synonyms demographics  \\\n",
       "0      ['Hagane no Renkinjutsushi: Fullmetal Alchemis...  ['Shounen']   \n",
       "1                                         ['HxH (2011)']  ['Shounen']   \n",
       "2                                                     []  ['Shounen']   \n",
       "3                                                     []           []   \n",
       "4                                 ['The Shape of Voice']  ['Shounen']   \n",
       "...                                                  ...          ...   \n",
       "20871                                ['Lokesboiwa Tolo']     ['Kids']   \n",
       "20872                           [\"Wouldn't it be Long?\"]     ['Kids']   \n",
       "20873                                   ['Maseukeumaen']     ['Kids']   \n",
       "20874                                                 []     ['Kids']   \n",
       "20875             ['No Longer Human...In Another World']           []   \n",
       "\n",
       "                                              background  \n",
       "0                                                    NaN  \n",
       "1                                                    NaN  \n",
       "2      Shingeki no Kyojin adapts content from volumes...  \n",
       "3      Steins;Gate is based on 5pb. and Nitroplus' re...  \n",
       "4      Winner of the Excellence Award on the 20th Jap...  \n",
       "...                                                  ...  \n",
       "20871                                                NaN  \n",
       "20872                                                NaN  \n",
       "20873                                                NaN  \n",
       "20874                                                NaN  \n",
       "20875                                                NaN  \n",
       "\n",
       "[20876 rows x 12 columns]"
      ]
     },
     "execution_count": 4,
     "metadata": {},
     "output_type": "execute_result"
    }
   ],
   "source": [
    "#spot the text columns \n",
    "df[['title', 'status', 'source', 'genres', 'themes', 'synopsis_2022', 'background', 'synopsis_2020', 'genre','title_synonyms','demographics', 'background']]"
   ]
  },
  {
   "cell_type": "code",
   "execution_count": 5,
   "id": "ced094d6-394b-4204-a0c2-e6b1fd45c0a9",
   "metadata": {},
   "outputs": [
    {
     "data": {
      "text/plain": [
       "Index(['id_2022', 'title', 'type', 'score_2022', 'scored_by_2022', 'status',\n",
       "       'episodes_2022', 'airing_from', 'airing_to', 'source', 'members_2022',\n",
       "       'favorites_2022', 'episode_duration', 'pg_rating', 'sfw', 'start_year',\n",
       "       'start_season', 'broadcast_day', 'broadcast_time', 'genres', 'themes',\n",
       "       'demographics', 'studios', 'producers', 'licensors', 'synopsis_2022',\n",
       "       'background', 'mal_created_at', 'mal_updated_at', 'picture_url',\n",
       "       'mal_url', 'trailer_url', 'title_english', 'title_japanese',\n",
       "       'title_synonyms', 'id_2020', 'synopsis_2020', 'genre', 'aired',\n",
       "       'episodes_2020', 'members_2020', 'popularity_2020', 'ranked_2020',\n",
       "       'score_2020', 'img_url', 'link'],\n",
       "      dtype='object')"
      ]
     },
     "execution_count": 5,
     "metadata": {},
     "output_type": "execute_result"
    }
   ],
   "source": [
    "#collect the columns of use \n",
    "df.columns"
   ]
  },
  {
   "cell_type": "code",
   "execution_count": 6,
   "id": "96a99c77-9789-4817-bac1-2f43e0ba5ffb",
   "metadata": {},
   "outputs": [],
   "source": [
    "#change the column names so they are easily distinguiable 2020 v 2022\n",
    "df.rename(columns={'genres': 'genres_2022', 'genre': 'genre_2020'}, inplace=True)"
   ]
  },
  {
   "cell_type": "code",
   "execution_count": 7,
   "id": "5805c605-bdc1-4810-afa5-2b567a95b0c7",
   "metadata": {},
   "outputs": [
    {
     "data": {
      "text/plain": [
       "Index(['id_2022', 'title', 'type', 'score_2022', 'scored_by_2022', 'status',\n",
       "       'episodes_2022', 'airing_from', 'airing_to', 'source', 'members_2022',\n",
       "       'favorites_2022', 'episode_duration', 'pg_rating', 'sfw', 'start_year',\n",
       "       'start_season', 'broadcast_day', 'broadcast_time', 'genres_2022',\n",
       "       'themes', 'demographics', 'studios', 'producers', 'licensors',\n",
       "       'synopsis_2022', 'background', 'mal_created_at', 'mal_updated_at',\n",
       "       'picture_url', 'mal_url', 'trailer_url', 'title_english',\n",
       "       'title_japanese', 'title_synonyms', 'id_2020', 'synopsis_2020',\n",
       "       'genre_2020', 'aired', 'episodes_2020', 'members_2020',\n",
       "       'popularity_2020', 'ranked_2020', 'score_2020', 'img_url', 'link'],\n",
       "      dtype='object')"
      ]
     },
     "execution_count": 7,
     "metadata": {},
     "output_type": "execute_result"
    }
   ],
   "source": [
    "df.columns"
   ]
  },
  {
   "cell_type": "code",
   "execution_count": 8,
   "id": "84bd7baa-3970-444d-8d5c-8af1f577c352",
   "metadata": {},
   "outputs": [
    {
     "data": {
      "text/plain": [
       "(20876, 27)"
      ]
     },
     "execution_count": 8,
     "metadata": {},
     "output_type": "execute_result"
    }
   ],
   "source": [
    "#get the desired columns for data cleaning\n",
    "df = df[['id_2022', 'title_english', 'type', 'score_2022', 'scored_by_2022', 'status',\n",
    "       'episodes_2022', 'source', 'members_2022',\n",
    "       'favorites_2022', 'episode_duration', 'pg_rating', 'sfw', 'genres_2022', 'themes',\n",
    "       'demographics', 'synopsis_2022',\n",
    "       'background', 'id_2020', 'synopsis_2020', 'genre_2020', 'aired',\n",
    "       'episodes_2020', 'members_2020', 'popularity_2020', 'ranked_2020',\n",
    "       'score_2020']]\n",
    "df.shape"
   ]
  },
  {
   "cell_type": "markdown",
   "id": "9c1705c5-2c3b-41ae-8171-d6703a9214a8",
   "metadata": {},
   "source": [
    "### Initial cleaning "
   ]
  },
  {
   "cell_type": "code",
   "execution_count": 9,
   "id": "d421367d-fcf6-41be-bf11-5f4042c0707b",
   "metadata": {},
   "outputs": [
    {
     "name": "stderr",
     "output_type": "stream",
     "text": [
      "[nltk_data] Downloading package stopwords to C:\\Users\\Nabiha\n",
      "[nltk_data]     Naqvie\\AppData\\Roaming\\nltk_data...\n",
      "[nltk_data]   Package stopwords is already up-to-date!\n"
     ]
    }
   ],
   "source": [
    "#df[['title', 'status', 'source', 'genres', 'themes', 'synopsis_2022', 'background', 'synopsis_2020', 'genre','title_synonyms','demographics', 'background']]\n",
    "import nltk\n",
    "nltk.download('stopwords')\n",
    "df[\"title_english\"] = df[\"title_english\"].str.replace('[^\\w\\s]','',regex=True) #Create column with review text with no punctuation\n",
    "df[\"title_english\"] = df[\"title_english\"].str.lower() #Make all words lowercase\n",
    "df.dropna(subset = [\"title_english\"], inplace=True) #Drop all rows with na review text, reset indices"
   ]
  },
  {
   "cell_type": "code",
   "execution_count": 10,
   "id": "ee9a447a-6735-4418-9fe7-b2d52d1d2efd",
   "metadata": {},
   "outputs": [],
   "source": [
    "df[\"status\"] = df[\"status\"].str.replace('[^\\w\\s]','',regex=True) #Create column with review text with no punctuation\n",
    "df[\"status\"] = df[\"status\"].str.lower() #Make all words lowercase\n",
    "df.dropna(subset = [\"status\"], inplace=True) #Drop all rows with na review text, reset indices"
   ]
  },
  {
   "cell_type": "code",
   "execution_count": 11,
   "id": "a23125dd-42e4-4803-a5bc-7644df9d40e7",
   "metadata": {},
   "outputs": [],
   "source": [
    "df[\"source\"] = df[\"source\"].str.replace('[^\\w\\s]','',regex=True) #Create column with review text with no punctuation\n",
    "df[\"source\"] = df[\"source\"].str.lower() #Make all words lowercase\n",
    "df.dropna(subset = [\"source\"], inplace=True) #Drop all rows with na review text, reset indices"
   ]
  },
  {
   "cell_type": "code",
   "execution_count": 12,
   "id": "60b7b5ca-a209-4394-bc3a-df81f38b3873",
   "metadata": {},
   "outputs": [],
   "source": [
    "df[\"genres_2022\"] = df[\"genres_2022\"].str.replace('[^\\w\\s]','',regex=True) #Create column with review text with no punctuation\n",
    "df[\"genres_2022\"] = df[\"genres_2022\"].str.lower() #Make all words lowercase\n",
    "df.dropna(subset = [\"genres_2022\"], inplace=True) #Drop all rows with na review text, reset indices"
   ]
  },
  {
   "cell_type": "code",
   "execution_count": 13,
   "id": "89a1ad92-7393-4d7c-aec4-691c06fdce3f",
   "metadata": {},
   "outputs": [],
   "source": [
    "df[\"themes\"] = df[\"themes\"].str.replace('[^\\w\\s]','',regex=True) #Create column with review text with no punctuation\n",
    "df[\"themes\"] = df[\"themes\"].str.lower() #Make all words lowercase\n",
    "df.dropna(subset = [\"themes\"], inplace=True) #Drop all rows with na review text, reset indices"
   ]
  },
  {
   "cell_type": "code",
   "execution_count": 14,
   "id": "0804b82e-6437-4af2-adb6-cc376d4b592b",
   "metadata": {},
   "outputs": [],
   "source": [
    "df[\"synopsis_2022\"] = df[\"synopsis_2022\"].str.replace('[^\\w\\s]','',regex=True) #Create column with review text with no punctuation\n",
    "df[\"synopsis_2022\"] = df[\"synopsis_2022\"].str.lower() #Make all words lowercase\n",
    "df.dropna(subset = [\"synopsis_2022\"], inplace=True) #Drop all rows with na review text, reset indices"
   ]
  },
  {
   "cell_type": "code",
   "execution_count": 15,
   "id": "e6107639-2daf-42e7-a4ab-2bf79191c849",
   "metadata": {},
   "outputs": [],
   "source": [
    "df[\"background\"] = df[\"background\"].str.replace('[^\\w\\s]','',regex=True) #Create column with review text with no punctuation\n",
    "df[\"background\"] = df[\"background\"].str.lower() #Make all words lowercase\n",
    "df.dropna(subset = [\"background\"], inplace=True) #Drop all rows with na review text, reset indices"
   ]
  },
  {
   "cell_type": "code",
   "execution_count": 16,
   "id": "6d92d52f-dee8-44c8-bc31-006b8dc2d9b8",
   "metadata": {},
   "outputs": [],
   "source": [
    "df[\"synopsis_2020\"] = df[\"synopsis_2020\"].str.replace('[^\\w\\s]','',regex=True) #Create column with review text with no punctuation\n",
    "df[\"synopsis_2020\"] = df[\"synopsis_2020\"].str.lower() #Make all words lowercase\n",
    "df.dropna(subset = [\"synopsis_2020\"], inplace=True) #Drop all rows with na review text, reset indices"
   ]
  },
  {
   "cell_type": "code",
   "execution_count": 17,
   "id": "36d3d46c-bf8d-4954-8fea-16a657d10015",
   "metadata": {},
   "outputs": [],
   "source": [
    "df[\"genre_2020\"] = df[\"genre_2020\"].str.replace('[^\\w\\s]','',regex=True) #Create column with review text with no punctuation\n",
    "df[\"genre_2020\"] = df[\"genre_2020\"].str.lower() #Make all words lowercase\n",
    "df.dropna(subset = [\"genre_2020\"], inplace=True) #Drop all rows with na review text, reset indices"
   ]
  },
  {
   "cell_type": "code",
   "execution_count": 18,
   "id": "c9b13a42-a473-4147-8a07-bcc3969731cb",
   "metadata": {},
   "outputs": [],
   "source": [
    "df[\"demographics\"] = df[\"demographics\"].str.replace('[^\\w\\s]','',regex=True) #Create column with review text with no punctuation\n",
    "df[\"demographics\"] = df[\"demographics\"].str.lower() #Make all words lowercase\n",
    "df.dropna(subset = [\"demographics\"], inplace=True) #Drop all rows with na review text, reset indices"
   ]
  },
  {
   "cell_type": "code",
   "execution_count": 19,
   "id": "ef5a08c6-5185-4926-aabf-2e029c587790",
   "metadata": {},
   "outputs": [],
   "source": [
    "df[\"type\"] = df[\"type\"].str.replace('[^\\w\\s]','',regex=True) #Create column with review text with no punctuation\n",
    "df[\"type\"] = df[\"type\"].str.lower() #Make all words lowercase\n",
    "df.dropna(subset = [\"type\"], inplace=True) #Drop all rows with na review text, reset indices"
   ]
  },
  {
   "cell_type": "markdown",
   "id": "d3576643-1ba5-4336-a391-ed6eeee5ef8a",
   "metadata": {},
   "source": [
    "### Tokenizing"
   ]
  },
  {
   "cell_type": "code",
   "execution_count": 20,
   "id": "02c37ee6-f827-4af5-a0d0-c514ac8aa4b1",
   "metadata": {},
   "outputs": [
    {
     "name": "stderr",
     "output_type": "stream",
     "text": [
      "[nltk_data] Downloading package punkt to C:\\Users\\Nabiha\n",
      "[nltk_data]     Naqvie\\AppData\\Roaming\\nltk_data...\n",
      "[nltk_data]   Package punkt is already up-to-date!\n"
     ]
    },
    {
     "data": {
      "text/plain": [
       "True"
      ]
     },
     "execution_count": 20,
     "metadata": {},
     "output_type": "execute_result"
    }
   ],
   "source": [
    "from nltk.tokenize import word_tokenize\n",
    "import nltk\n",
    "nltk.download('punkt')"
   ]
  },
  {
   "cell_type": "code",
   "execution_count": 21,
   "id": "cbb8efa1-0a0a-47e0-9166-625ae35ecba7",
   "metadata": {},
   "outputs": [
    {
     "data": {
      "text/plain": [
       "Index(['id_2022', 'title_english', 'type', 'score_2022', 'scored_by_2022',\n",
       "       'status', 'episodes_2022', 'source', 'members_2022', 'favorites_2022',\n",
       "       'episode_duration', 'pg_rating', 'sfw', 'genres_2022', 'themes',\n",
       "       'demographics', 'synopsis_2022', 'background', 'id_2020',\n",
       "       'synopsis_2020', 'genre_2020', 'aired', 'episodes_2020', 'members_2020',\n",
       "       'popularity_2020', 'ranked_2020', 'score_2020'],\n",
       "      dtype='object')"
      ]
     },
     "execution_count": 21,
     "metadata": {},
     "output_type": "execute_result"
    }
   ],
   "source": [
    "df.columns"
   ]
  },
  {
   "cell_type": "code",
   "execution_count": 23,
   "id": "c22da072-65ce-4bb8-84e1-17708ea2aa29",
   "metadata": {},
   "outputs": [],
   "source": [
    "df[\"title_english\"] = df.apply(lambda row: word_tokenize(row[\"title_english\"]), axis=1)"
   ]
  },
  {
   "cell_type": "code",
   "execution_count": 24,
   "id": "0dd85402-face-4e9c-b5f9-71880a0738ee",
   "metadata": {},
   "outputs": [],
   "source": [
    "df[\"type\"] = df.apply(lambda row: word_tokenize(row[\"type\"]), axis=1)"
   ]
  },
  {
   "cell_type": "code",
   "execution_count": 25,
   "id": "de002188-e559-4a11-bf14-6d4a27c5b619",
   "metadata": {},
   "outputs": [],
   "source": [
    "df[\"status\"] = df.apply(lambda row: word_tokenize(row[\"status\"]), axis=1)"
   ]
  },
  {
   "cell_type": "code",
   "execution_count": 26,
   "id": "5deb2a91-bd32-47ce-9f85-561f4f2a8442",
   "metadata": {},
   "outputs": [],
   "source": [
    "df[\"source\"] = df.apply(lambda row: word_tokenize(row[\"source\"]), axis=1)"
   ]
  },
  {
   "cell_type": "code",
   "execution_count": 27,
   "id": "0cd54ddf-2b27-4adc-a263-b2b9bd972b41",
   "metadata": {},
   "outputs": [],
   "source": [
    "df[\"genres_2022\"] = df.apply(lambda row: word_tokenize(row[\"genres_2022\"]), axis=1)"
   ]
  },
  {
   "cell_type": "code",
   "execution_count": 28,
   "id": "8648b849-1623-45b4-a08f-6406759ae30b",
   "metadata": {},
   "outputs": [],
   "source": [
    "df[\"themes\"] = df.apply(lambda row: word_tokenize(row[\"themes\"]), axis=1)"
   ]
  },
  {
   "cell_type": "code",
   "execution_count": 29,
   "id": "d2ac5e7e-443f-4135-91ca-e290c81a818a",
   "metadata": {},
   "outputs": [],
   "source": [
    "df[\"demographics\"] = df.apply(lambda row: word_tokenize(row[\"demographics\"]), axis=1)"
   ]
  },
  {
   "cell_type": "code",
   "execution_count": 30,
   "id": "a0d509f4-3fcc-42ef-ad80-e33cef96e7d8",
   "metadata": {},
   "outputs": [],
   "source": [
    "df[\"synopsis_2020\"] = df.apply(lambda row: word_tokenize(row[\"synopsis_2020\"]), axis=1)"
   ]
  },
  {
   "cell_type": "code",
   "execution_count": 31,
   "id": "4eaa39c8-f2e0-41c7-a2e7-471baa646f21",
   "metadata": {},
   "outputs": [],
   "source": [
    "df[\"synopsis_2022\"] = df.apply(lambda row: word_tokenize(row[\"synopsis_2022\"]), axis=1)"
   ]
  },
  {
   "cell_type": "code",
   "execution_count": 32,
   "id": "bcd46f26-4d10-40bb-9839-dfcc98c6e0c6",
   "metadata": {},
   "outputs": [],
   "source": [
    "df[\"background\"] = df.apply(lambda row: word_tokenize(row[\"background\"]), axis=1)"
   ]
  },
  {
   "cell_type": "markdown",
   "id": "0cf94e75-0335-491e-9138-6cf2afd9aa57",
   "metadata": {},
   "source": [
    "### Lemmatizing"
   ]
  },
  {
   "cell_type": "code",
   "execution_count": 33,
   "id": "64bb1226-1b8b-4fb6-8609-65db9b6a40e5",
   "metadata": {},
   "outputs": [
    {
     "name": "stderr",
     "output_type": "stream",
     "text": [
      "[nltk_data] Downloading package wordnet to C:\\Users\\Nabiha\n",
      "[nltk_data]     Naqvie\\AppData\\Roaming\\nltk_data...\n",
      "[nltk_data]   Package wordnet is already up-to-date!\n",
      "[nltk_data] Downloading package omw-1.4 to C:\\Users\\Nabiha\n",
      "[nltk_data]     Naqvie\\AppData\\Roaming\\nltk_data...\n",
      "[nltk_data]   Package omw-1.4 is already up-to-date!\n"
     ]
    }
   ],
   "source": [
    "from nltk.stem import WordNetLemmatizer\n",
    "import nltk\n",
    "nltk.download('wordnet')\n",
    "import nltk\n",
    "nltk.download('omw-1.4')\n",
    "WNL = WordNetLemmatizer()\n",
    "def lemmatize_text(text):\n",
    "    return [WNL.lemmatize(w) for w in text]"
   ]
  },
  {
   "cell_type": "code",
   "execution_count": 34,
   "id": "c5b9de66-e66c-4ff2-ae0d-9af034b57396",
   "metadata": {},
   "outputs": [],
   "source": [
    "df['title_english'] = df.title_english.apply(lemmatize_text)\n",
    "df['title_english'] = df['title_english'].apply(' '.join)"
   ]
  },
  {
   "cell_type": "code",
   "execution_count": 35,
   "id": "d3cd84ba-5e87-4780-986d-a5a1c40ea2c7",
   "metadata": {},
   "outputs": [],
   "source": [
    "df['type'] = df.type.apply(lemmatize_text)\n",
    "df['type'] = df['type'].apply(' '.join)"
   ]
  },
  {
   "cell_type": "code",
   "execution_count": 36,
   "id": "913cbb40-8396-4b4c-9b40-367ec907e7d6",
   "metadata": {},
   "outputs": [],
   "source": [
    "df['status'] = df.status.apply(lemmatize_text)\n",
    "df['status'] = df['status'].apply(' '.join)"
   ]
  },
  {
   "cell_type": "code",
   "execution_count": 37,
   "id": "44396097-cc76-484a-aa31-70925af511b6",
   "metadata": {},
   "outputs": [],
   "source": [
    "df['source'] = df.source.apply(lemmatize_text)\n",
    "df['source'] = df['source'].apply(' '.join)"
   ]
  },
  {
   "cell_type": "code",
   "execution_count": 38,
   "id": "a2be6dc8-194c-4ed6-a3b8-589336f9f402",
   "metadata": {},
   "outputs": [],
   "source": [
    "df['genres_2022'] = df.genres_2022.apply(lemmatize_text)\n",
    "df['genres_2022'] = df['genres_2022'].apply(' '.join)"
   ]
  },
  {
   "cell_type": "code",
   "execution_count": 39,
   "id": "9b928c31-73b7-4353-bf0b-1844efdfe05d",
   "metadata": {},
   "outputs": [],
   "source": [
    "df['themes'] = df.themes.apply(lemmatize_text)\n",
    "df['themes'] = df['themes'].apply(' '.join)"
   ]
  },
  {
   "cell_type": "code",
   "execution_count": 40,
   "id": "50a6402b-7067-48f3-990b-543242d64556",
   "metadata": {},
   "outputs": [],
   "source": [
    "df['background'] = df.background.apply(lemmatize_text)\n",
    "df['background'] = df['background'].apply(' '.join)"
   ]
  },
  {
   "cell_type": "code",
   "execution_count": 41,
   "id": "2ff23eb9-eeba-496a-8dc6-724d3c40f977",
   "metadata": {},
   "outputs": [],
   "source": [
    "df['demographics'] = df.demographics.apply(lemmatize_text)\n",
    "df['demographics'] = df['demographics'].apply(' '.join)"
   ]
  },
  {
   "cell_type": "code",
   "execution_count": 42,
   "id": "fa7ec6bc-04a4-423e-bc7c-aaefc427b0d0",
   "metadata": {},
   "outputs": [],
   "source": [
    "df['synopsis_2020'] = df.synopsis_2020.apply(lemmatize_text)\n",
    "df['synopsis_2020'] = df['synopsis_2020'].apply(' '.join)"
   ]
  },
  {
   "cell_type": "code",
   "execution_count": 43,
   "id": "8dc6173c-16ad-44aa-a34c-6aef8d5d5e8b",
   "metadata": {},
   "outputs": [],
   "source": [
    "df['synopsis_2022'] = df.synopsis_2022.apply(lemmatize_text)\n",
    "df['synopsis_2022'] = df['synopsis_2022'].apply(' '.join)"
   ]
  },
  {
   "cell_type": "code",
   "execution_count": 44,
   "id": "9ad1ec65-82fc-4090-8fe6-d0681222992d",
   "metadata": {},
   "outputs": [
    {
     "name": "stdout",
     "output_type": "stream",
     "text": [
      "   id_2022                           title_english   type  score_2022  \\\n",
      "2    38524         attack on titan season 3 part 2     tv        9.07   \n",
      "3     9253                              steinsgate     tv        9.08   \n",
      "4    28851                          a silent voice  movie        8.95   \n",
      "5    32281                               your name  movie        8.86   \n",
      "6     2904  code geass lelouch of the rebellion r2     tv        8.91   \n",
      "\n",
      "   scored_by_2022           status  episodes_2022        source  members_2022  \\\n",
      "2         1322101  finished airing           10.0         manga       1871324   \n",
      "3         1248451  finished airing           24.0  visual novel       2262118   \n",
      "4         1392476  finished airing            1.0         manga       1992945   \n",
      "5         1669497  finished airing            1.0      original       2383752   \n",
      "6         1076510  finished airing           25.0      original       1582909   \n",
      "\n",
      "   favorites_2022 episode_duration                       pg_rating   sfw  \\\n",
      "2           51754  0 days 00:23:55  R - 17+ (violence & profanity)  True   \n",
      "3          172591  0 days 00:24:20       PG-13 - Teens 13 or older  True   \n",
      "4           77132  0 days 02:10:03       PG-13 - Teens 13 or older  True   \n",
      "5           82278  0 days 01:46:31       PG-13 - Teens 13 or older  True   \n",
      "6           71167  0 days 00:24:00  R - 17+ (violence & profanity)  True   \n",
      "\n",
      "            genres_2022                      themes demographics  \\\n",
      "2          action drama      gore military survival      shounen   \n",
      "3  drama scifi suspense   psychological time travel                \n",
      "4                 drama            romantic subtext      shounen   \n",
      "5    drama supernatural            romantic subtext                \n",
      "6    action drama scifi  mecha military super power                \n",
      "\n",
      "                                       synopsis_2022  \\\n",
      "2  seeking to restore humanity diminishing hope t...   \n",
      "3  eccentric scientist rintarou okabe ha a nevere...   \n",
      "4  a a wild youth elementary school student shouy...   \n",
      "5  mitsuha miyamizu a high school girl yearns to ...   \n",
      "6  one year ha passed since the black rebellion a...   \n",
      "\n",
      "                                          background  id_2020  \\\n",
      "2  shingeki no kyojin adapts content from volume ...  38524.0   \n",
      "3  steinsgate is based on 5pb and nitroplus relea...   9253.0   \n",
      "4  winner of the excellence award on the 20th jap...  28851.0   \n",
      "5  kimi no na wa won the lafca animation award in...  32281.0   \n",
      "6  code geass hangyaku no lelouch r2 is an origin...   2904.0   \n",
      "\n",
      "                                       synopsis_2020  \\\n",
      "2  seeking to restore humanity diminishing hope t...   \n",
      "3  the selfproclaimed mad scientist rintarou okab...   \n",
      "4  a a wild youth elementary school student shouy...   \n",
      "5  mitsuha miyamizu a high school girl yearns to ...   \n",
      "6  one year ha passed since the black rebellion a...   \n",
      "\n",
      "                                          genre_2020  \\\n",
      "2  action drama fantasy military mystery shounen ...   \n",
      "3                                     thriller scifi   \n",
      "4                               drama school shounen   \n",
      "5                  romance supernatural school drama   \n",
      "6      action military scifi super power drama mecha   \n",
      "\n",
      "                         aired  episodes_2020  members_2020  popularity_2020  \\\n",
      "2  Apr 29, 2019 to Jul 1, 2019           10.0      446370.0            175.0   \n",
      "3  Apr 6, 2011 to Sep 14, 2011           24.0     1331710.0              7.0   \n",
      "4                 Sep 17, 2016            1.0      842277.0             53.0   \n",
      "5                 Aug 26, 2016            1.0     1139878.0             15.0   \n",
      "6  Apr 6, 2008 to Sep 28, 2008           25.0      992196.0             27.0   \n",
      "\n",
      "   ranked_2020  score_2020  \n",
      "2          5.0        9.07  \n",
      "3          2.0        9.11  \n",
      "4         10.0        9.01  \n",
      "5          4.0        9.09  \n",
      "6         17.0        8.93  \n"
     ]
    }
   ],
   "source": [
    "with pd.option_context('display.max_rows', None, 'display.max_columns', None):  # more options can be specified also\n",
    "    print(df.head())"
   ]
  },
  {
   "cell_type": "code",
   "execution_count": 45,
   "id": "fafd285d-ab68-45d8-968a-edf59b92b808",
   "metadata": {},
   "outputs": [],
   "source": [
    "df.to_csv('text_cleaning.csv', index = False)"
   ]
  },
  {
   "cell_type": "code",
   "execution_count": null,
   "id": "d7a3a5f0-686e-4887-a34c-155793a27661",
   "metadata": {},
   "outputs": [],
   "source": []
  }
 ],
 "metadata": {
  "kernelspec": {
   "display_name": "Python 3 (ipykernel)",
   "language": "python",
   "name": "python3"
  },
  "language_info": {
   "codemirror_mode": {
    "name": "ipython",
    "version": 3
   },
   "file_extension": ".py",
   "mimetype": "text/x-python",
   "name": "python",
   "nbconvert_exporter": "python",
   "pygments_lexer": "ipython3",
   "version": "3.9.7"
  }
 },
 "nbformat": 4,
 "nbformat_minor": 5
}
